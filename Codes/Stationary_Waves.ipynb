{
 "cells": [
  {
   "cell_type": "code",
   "execution_count": 3,
   "metadata": {},
   "outputs": [],
   "source": [
    "__author__ = '@Tssp'\n",
    "import numpy as np\n",
    "import matplotlib.pyplot as plt\n",
    "import matplotlib.animation as animation\n",
    "plt.rc('text',usetex=True)\n",
    "plt.rc('font',family='serif')\n",
    "plt.rcParams['xtick.labelsize']=16\n",
    "plt.rcParams['ytick.labelsize']=16\n",
    "plt.rcParams['axes.labelsize']=19\n",
    "plt.rcParams['axes.titlesize']=19"
   ]
  },
  {
   "cell_type": "markdown",
   "metadata": {},
   "source": [
    "# $$y_+ = Asin(\\omega t - kx)$$ $$y_- = -Asin(\\omega t + kx$$\n",
    "# $$y_t = y_+ + y_- = \\underbrace{2Asin(kx)}_{A'}cos(\\omega t)$$\n",
    "# The stationary situation corresponds with $A'(x=L) = 0$:\n",
    "# $$sin(kx) = 0 \\rightarrow kL = n\\pi,\\ n=\\pm1,\\pm2,\\pm3,...$$\n",
    "# Hence: $$k = \\frac{n\\pi}{L}$$\n",
    "# And the eq. of the stationary waves is: $$y_t = 2A\\sin\\left(\\frac{n\\pi}{L}x\\right)cos(\\omega t)$$"
   ]
  },
  {
   "cell_type": "code",
   "execution_count": 9,
   "metadata": {},
   "outputs": [],
   "source": [
    "def f(w, t, k, x):\n",
    "    return np.sin(w*t - k*x)\n",
    "\n",
    "w = 2*np.pi\n",
    "L = 1\n",
    "m = 2 # This is the vibration mode\n",
    "k = np.pi*m/L\n",
    "x = np.linspace(0, 1)"
   ]
  },
  {
   "cell_type": "code",
   "execution_count": 5,
   "metadata": {},
   "outputs": [],
   "source": [
    "def init():\n",
    "    ax.set_xlim(0, 1)\n",
    "    ax.set_ylim(-2.1, 2.1)\n",
    "    ax.set_xlabel('x')\n",
    "    ax.set_ylabel('f(x)')\n",
    "    plt.tight_layout()\n",
    "    plt.legend(['$y_1$', '$y_2$', '$y_3$'], loc='lower left')\n",
    "    return ln,"
   ]
  },
  {
   "cell_type": "code",
   "execution_count": 6,
   "metadata": {},
   "outputs": [],
   "source": [
    "def update(frame):\n",
    "    xdata.append(frame)\n",
    "    ydata = f(w, frame, k, x)\n",
    "    ydata2 = f(w, frame, -k, x)\n",
    "    ln.set_data(x, ydata)\n",
    "    ln2.set_data(x, ydata2)\n",
    "    ln3.set_data(x, ydata - ydata2)\n",
    "    return ln,"
   ]
  },
  {
   "cell_type": "code",
   "execution_count": null,
   "metadata": {},
   "outputs": [
    {
     "name": "stderr",
     "output_type": "stream",
     "text": [
      "MovieWriter imagemagick unavailable; trying to use <class 'matplotlib.animation.PillowWriter'> instead.\n"
     ]
    }
   ],
   "source": [
    "fig, ax = plt.subplots()\n",
    "xdata, ydata = [], []\n",
    "ln, = plt.plot([], [], 'r', alpha=.5)\n",
    "ln2, = plt.plot([], [], 'b', alpha=.5)\n",
    "ln3, = plt.plot([], [], 'g', lw=2)\n",
    "\n",
    "ani = animation.FuncAnimation(fig, update, frames=np.linspace(0, 10, 120),\n",
    "                    init_func=init, blit=True, interval = 100)\n",
    "\n",
    "ani.save(f'Interference_m{m}.gif', writer='imagemagick', dpi=200)\n",
    "plt.show()"
   ]
  },
  {
   "cell_type": "code",
   "execution_count": null,
   "metadata": {},
   "outputs": [],
   "source": []
  }
 ],
 "metadata": {
  "kernelspec": {
   "display_name": "Python 3",
   "language": "python",
   "name": "python3"
  },
  "language_info": {
   "codemirror_mode": {
    "name": "ipython",
    "version": 3
   },
   "file_extension": ".py",
   "mimetype": "text/x-python",
   "name": "python",
   "nbconvert_exporter": "python",
   "pygments_lexer": "ipython3",
   "version": "3.7.5"
  }
 },
 "nbformat": 4,
 "nbformat_minor": 2
}
