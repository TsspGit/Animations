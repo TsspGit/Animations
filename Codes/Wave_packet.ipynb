{
 "cells": [
  {
   "cell_type": "code",
   "execution_count": 8,
   "metadata": {},
   "outputs": [],
   "source": [
    "__author__ = '@Tssp'\n",
    "import numpy as np\n",
    "import matplotlib.pyplot as plt\n",
    "from ipywidgets import interactive\n",
    "import imageio as io\n",
    "import matplotlib.animation as animation"
   ]
  },
  {
   "cell_type": "markdown",
   "metadata": {},
   "source": [
    "# Free particle:\n",
    "# $$\\psi(x, t) = Ae^{i(\\omega t - kx)} = Ae^{i(\\hbar k^2 t/2m - kx)}$$\n",
    "# Wave packet:\n",
    "# $$\\Psi(x, t) = \\int^{\\infty}_{-\\infty} dk\\ g(k)\\psi(x,t)$$ \n",
    "# For a gaussian packet:\n",
    "# $$\\Psi(x, t)= \\left( \\frac{2a}{\\pi} \\right)^{1/4} \\frac{e^{(-ax^2 + i(lx - \\hbar l^2t/2m))/(1 + 2i\\hbar at/m)}}{\\sqrt{1 + 2i\\hbar at/m}}$$"
   ]
  },
  {
   "cell_type": "code",
   "execution_count": 9,
   "metadata": {},
   "outputs": [],
   "source": [
    "def wave_packet(a, l, hbar, t, m, x):\n",
    "    out = (2*a/np.pi)**(1/4) * np.exp((-a*x**2 + 1j*(l*x-hbar*l**2*t/(2*m))) / (1 + 2j*hbar*a*t/m)) / np.sqrt(1 + 2j*hbar*a*t/m)\n",
    "    return out\n",
    "def Prob(Psi):\n",
    "    return np.conj(Psi) * Psi"
   ]
  },
  {
   "cell_type": "markdown",
   "metadata": {},
   "source": [
    "# Animation"
   ]
  },
  {
   "cell_type": "code",
   "execution_count": 10,
   "metadata": {},
   "outputs": [],
   "source": [
    "x = np.linspace(-5, 20, 300)\n",
    "a = 0.1\n",
    "l=3\n",
    "hbar = 5\n",
    "m = 1"
   ]
  },
  {
   "cell_type": "code",
   "execution_count": 11,
   "metadata": {},
   "outputs": [],
   "source": [
    "def init():\n",
    "    ax.set_xlim(-5, 20)\n",
    "    ax.set_ylim(-0.6, 0.6)\n",
    "    ax.set_xlabel('$X$', fontsize=18)\n",
    "    ax.set_ylabel('$\\Psi(x,t)$', fontsize=18)\n",
    "    plt.tight_layout()\n",
    "    plt.legend(['Onda', 'Probabilidad'], loc='upper right', frameon=False)\n",
    "    plt.axis('off')\n",
    "    return ln,"
   ]
  },
  {
   "cell_type": "code",
   "execution_count": 12,
   "metadata": {},
   "outputs": [],
   "source": [
    "def update(frame):\n",
    "    xdata.append(frame)\n",
    "    ydata = wave_packet(a, l, hbar, frame, m, x)\n",
    "    ydata2 = Prob(ydata)\n",
    "    ln.set_data(x, ydata)\n",
    "    ln2.set_data(x, ydata2)\n",
    "    return ln,"
   ]
  },
  {
   "cell_type": "code",
   "execution_count": 13,
   "metadata": {},
   "outputs": [
    {
     "name": "stderr",
     "output_type": "stream",
     "text": [
      "MovieWriter imagemagick unavailable; trying to use <class 'matplotlib.animation.PillowWriter'> instead.\n",
      "/usr/local/lib/python3.7/site-packages/numpy/core/_asarray.py:85: ComplexWarning: Casting complex values to real discards the imaginary part\n",
      "  return array(a, dtype, copy=False, order=order)\n"
     ]
    },
    {
     "data": {
      "image/png": "[encoded data removed]",
      "text/plain": [
       "<Figure size 432x288 with 1 Axes>"
      ]
     },
     "metadata": {
      "needs_background": "light"
     },
     "output_type": "display_data"
    }
   ],
   "source": [
    "fig, ax = plt.subplots()\n",
    "xdata, ydata = [], []\n",
    "ln, = plt.plot([], [])\n",
    "ln2, = plt.plot([], [])\n",
    "\n",
    "ani = animation.FuncAnimation(fig, update, frames=np.linspace(-2, 2, 120),\n",
    "                    init_func=init, blit=True, interval = 100)\n",
    "\n",
    "ani.save(f'Wavepacketv2.gif', writer='imagemagick', dpi=200)\n",
    "plt.show()"
   ]
  },
  {
   "cell_type": "code",
   "execution_count": null,
   "metadata": {},
   "outputs": [],
   "source": []
  }
 ],
 "metadata": {
  "kernelspec": {
   "display_name": "Python 3",
   "language": "python",
   "name": "python3"
  },
  "language_info": {
   "codemirror_mode": {
    "name": "ipython",
    "version": 3
   },
   "file_extension": ".py",
   "mimetype": "text/x-python",
   "name": "python",
   "nbconvert_exporter": "python",
   "pygments_lexer": "ipython3",
   "version": "3.7.5"
  }
 },
 "nbformat": 4,
 "nbformat_minor": 2
}
